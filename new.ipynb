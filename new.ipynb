{
 "cells": [
  {
   "attachments": {},
   "cell_type": "markdown",
   "metadata": {},
   "source": [
    "1.What is Abstraction in oops?explain an example.\n",
    "ans:\n",
    "    It is used in blue print.An abstraction class is a class but not one you create objets form directly\n",
    "    "
   ]
  },
  {
   "cell_type": "code",
   "execution_count": 1,
   "metadata": {},
   "outputs": [],
   "source": [
    "import abc\n",
    "class pw:\n",
    "\n",
    "    @abc.abstractmethod\n",
    "    def student_detials(self):\n",
    "        pass\n",
    "    @abc.abstractmethod\n",
    "    def student_assignement(self):\n",
    "        pass\n",
    "    @abc.abstractmethod\n",
    "    def student_marks(self):\n",
    "        pass\n",
    "\n",
    "    "
   ]
  },
  {
   "attachments": {},
   "cell_type": "markdown",
   "metadata": {},
   "source": [
    "Q2.Differentiate bwt Abstraction and encapulation.\n",
    "ans.\n",
    "It is used in blue print.An abstraction class is a class but not one you create objets form directly.\n",
    "ans.\n",
    "    This will hide the complaex details for the users and prevent data being modified by aceident.\n",
    "\n",
    "    class car :\n",
    "    def __init__(self, year, make ,model ,speed ):\n",
    "\n",
    "        self.__year=year\n",
    "        self.__make=make\n",
    "        self.__module=model\n",
    "        self.__speed=speed\n",
    "    \n",
    "    mport abc\n",
    "class pw:\n",
    "\n",
    "    @abc.abstractmethod\n",
    "    def student_detials(self):\n",
    "        pass\n",
    "    @abc.abstractmethod\n",
    "    def student_assignement(self):\n",
    "        pass\n",
    "    @abc.abstractmethod\n",
    "    def student_marks(self):\n",
    "        pass\n",
    "\n",
    "    "
   ]
  },
  {
   "attachments": {},
   "cell_type": "markdown",
   "metadata": {},
   "source": [
    "Q3.what is abc method.used?\n",
    "ans>\n",
    "    This module provides the infrastructure for defining abstract base classes\n",
    "    This module provides the infrastructure for defining abstract base classes"
   ]
  }
 ],
 "metadata": {
  "kernelspec": {
   "display_name": "Python 3",
   "language": "python",
   "name": "python3"
  },
  "language_info": {
   "codemirror_mode": {
    "name": "ipython",
    "version": 3
   },
   "file_extension": ".py",
   "mimetype": "text/x-python",
   "name": "python",
   "nbconvert_exporter": "python",
   "pygments_lexer": "ipython3",
   "version": "3.11.3"
  },
  "orig_nbformat": 4
 },
 "nbformat": 4,
 "nbformat_minor": 2
}
